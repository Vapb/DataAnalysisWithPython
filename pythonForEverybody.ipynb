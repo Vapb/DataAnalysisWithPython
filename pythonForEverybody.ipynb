{
 "cells": [
  {
   "cell_type": "markdown",
   "metadata": {},
   "source": [
    "# Python concepts review"
   ]
  },
  {
   "cell_type": "code",
   "execution_count": 4,
   "metadata": {},
   "outputs": [
    {
     "name": "stdout",
     "output_type": "stream",
     "text": [
      "Awesome Brother\n",
      "X value is  2\n",
      "Y value is  5\n",
      "Z value is  4.0 <class 'float'>\n"
     ]
    }
   ],
   "source": [
    "# Variables\n",
    "caio = \"Awesome Brother\"\n",
    "x = 2 \n",
    "y = x + 3\n",
    "z = 12.0\n",
    "print(caio)\n",
    "print(\"X value is \",x)\n",
    "print(\"Y value is \",y)\n",
    "print(\"Z value is \",z/3, type(z))"
   ]
  },
  {
   "cell_type": "code",
   "execution_count": 9,
   "metadata": {},
   "outputs": [
    {
     "name": "stdout",
     "output_type": "stream",
     "text": [
      "X value is ten\n"
     ]
    }
   ],
   "source": [
    "# Conditional Execution\n",
    "x = int(input(\"Give me a value\"))\n",
    "if x > 10 :\n",
    "    print(\"Your value is larger than ten\")\n",
    "elif x == 10 :\n",
    "    print(\"Your value equals to ten\")\n",
    "else:\n",
    "    print(\"Your value is bellow ten\")"
   ]
  },
  {
   "cell_type": "code",
   "execution_count": 32,
   "metadata": {},
   "outputs": [
    {
     "name": "stdout",
     "output_type": "stream",
     "text": [
      "Wow could not turn x into an int\n",
      "This is the error menssage :  invalid literal for int() with base 10: 'caio'\n",
      "Oops! <class 'ValueError'> occurred.\n"
     ]
    }
   ],
   "source": [
    "# More about Contional Execution\n",
    "x = input('Give me a value')\n",
    "try:\n",
    "    x = int(x)\n",
    "    print(\"Wow turned x into an int\")\n",
    "except Exception as ex:\n",
    "    print('Wow could not turn x into an int')\n",
    "    print('This is the error menssage : ', ex)\n",
    "    print(\"Oops!\", ex.__class__, \"occurred.\")"
   ]
  },
  {
   "cell_type": "code",
   "execution_count": 54,
   "metadata": {},
   "outputs": [
    {
     "name": "stdout",
     "output_type": "stream",
     "text": [
      "Max function -> max(x)  3\n",
      "Type of x  <class 'list'>\n",
      "Type of y  <class 'str'>\n",
      "New type of y after float(y)  <class 'float'>\n"
     ]
    }
   ],
   "source": [
    "# Some usefull functions\n",
    "x = [1,2,3]\n",
    "y = '2'\n",
    "print('Max function -> max(x) ', max(x))\n",
    "print(\"Type of x \",type(x))\n",
    "print(\"Type of y \",type(y))\n",
    "y = float(y)\n",
    "print(\"New type of y after float(y) \",type(y))"
   ]
  },
  {
   "cell_type": "code",
   "execution_count": 16,
   "metadata": {},
   "outputs": [
    {
     "name": "stdout",
     "output_type": "stream",
     "text": [
      "22\n",
      "99\n",
      "2\n",
      " docstringFunction(a)\n",
      "            return a\n",
      "    \n"
     ]
    }
   ],
   "source": [
    "# Functions (Store and reuse)\n",
    "def comparerValues(a,b):\n",
    "    if (a > b) :\n",
    "        return a \n",
    "    else:\n",
    "        return b\n",
    "\n",
    "def comparerValuesNArgs(*args): # Unlimited Number of Positional Argument Values\n",
    "    return max(args)\n",
    "\n",
    "def sum (a=1, b=1): # Default values\n",
    "    return a+b\n",
    "\n",
    "def docStringFunction(a):\n",
    "    ''' docstringFunction(a)\n",
    "            return a\n",
    "    '''\n",
    "    return a\n",
    "\n",
    "\n",
    "print(comparerValues(10,22))\n",
    "print(comparerValuesNArgs(1,2,3,4,5,99,22))\n",
    "print(sum())\n",
    "print(docStringFunction.__doc__)"
   ]
  },
  {
   "cell_type": "code",
   "execution_count": 70,
   "metadata": {},
   "outputs": [
    {
     "name": "stdout",
     "output_type": "stream",
     "text": [
      "While i  0\n",
      "While i  1\n",
      "While i  2\n",
      "While i  3\n",
      "While i  4\n",
      "\n",
      "While True  1\n",
      "While True  2\n",
      "While True  3\n",
      "While True  4\n",
      "\n",
      "For i in range(5)  0\n",
      "For i in range(5)  1\n",
      "For i in range(5)  2\n",
      "For i in range(5)  3\n",
      "For i in range(5)  4\n",
      "\n",
      "For i in range(2,20,5)  2\n",
      "For i in range(2,20,5)  7\n",
      "For i in range(2,20,5)  12\n",
      "For i in range(2,20,5)  17\n"
     ]
    }
   ],
   "source": [
    "# Loops\n",
    "i = 0\n",
    "while i < 5:\n",
    "    print('While i ',i)\n",
    "    i += 1\n",
    "\n",
    "print()\n",
    "\n",
    "i = 1\n",
    "while True:\n",
    "    if i % 5 == 0 :\n",
    "        break\n",
    "    print('While True ',i)\n",
    "    i = i + 1\n",
    "\n",
    "print()\n",
    "\n",
    "for i in range(5):\n",
    "    print('For i in range(5) ',i)\n",
    "\n",
    "print()\n",
    "\n",
    "for i in range(2,20,5):\n",
    "    print('For i in range(2,20,5) ',i)"
   ]
  },
  {
   "cell_type": "code",
   "execution_count": 25,
   "metadata": {},
   "outputs": [
    {
     "name": "stdout",
     "output_type": "stream",
     "text": [
      "Even  0\n",
      "Odd  1\n",
      "Even  2\n",
      "Odd  3\n",
      "Even  4\n",
      "Odd  5\n",
      "Even  6\n",
      "Odd  7\n",
      "Even  8\n",
      "Odd  9\n",
      "Even  10\n"
     ]
    }
   ],
   "source": [
    "# Continue Example\n",
    "\n",
    "i = 0\n",
    "while i <= 10:\n",
    "    if i % 2 == 0:\n",
    "        print('Even ', i)\n",
    "        i += 1\n",
    "        continue\n",
    "    print('Odd ', i)\n",
    "    i = i + 1"
   ]
  },
  {
   "cell_type": "markdown",
   "metadata": {},
   "source": [
    "#### Lists"
   ]
  },
  {
   "cell_type": "code",
   "execution_count": 97,
   "metadata": {},
   "outputs": [
    {
     "name": "stdout",
     "output_type": "stream",
     "text": [
      "firstItem  1\n",
      "lastItem  10\n",
      "sliceItems  [1, 2, 3, 4, 5]\n",
      "maxValue  10\n",
      "minValue  1\n",
      "Length  10\n",
      "x values [1, 2, 3, 4, 5, 6, 7, 8, 9, 10]\n",
      "12345678910\n",
      "oiac\n"
     ]
    }
   ],
   "source": [
    "# Lists\n",
    "x = [1,2,3,4,5,6,7,8,9,10]\n",
    "y = 'caio'\n",
    "\n",
    "firstItem = x[0]\n",
    "lastItem = x[-1]\n",
    "sliceItems = x[0:5]\n",
    "maxValue = max(x)\n",
    "minValue = min(x)\n",
    "\n",
    "x.append(11)\n",
    "x.pop()\n",
    "x.extend([12])\n",
    "x.remove(12)\n",
    "\n",
    "\n",
    "print(\"firstItem \", firstItem)\n",
    "print(\"lastItem \", lastItem)\n",
    "print(\"sliceItems \", sliceItems)\n",
    "print(\"maxValue \", maxValue)\n",
    "print(\"minValue \", minValue)\n",
    "print('Length ', len(x))\n",
    "\n",
    "print('x values',x)\n",
    "\n",
    "result = \"\"\n",
    "for item in x:\n",
    "    result += str(item)\n",
    "print(result)\n",
    "\n",
    "reversedy = \"\"\n",
    "for letter in reversed(y):\n",
    "    reversedy += letter\n",
    "print(reversedy)"
   ]
  },
  {
   "cell_type": "markdown",
   "metadata": {},
   "source": [
    "#### Enumerate"
   ]
  },
  {
   "cell_type": "code",
   "execution_count": 2,
   "metadata": {},
   "outputs": [
    {
     "name": "stdout",
     "output_type": "stream",
     "text": [
      "0 A\n",
      "1 B\n",
      "2 C\n",
      "3 D\n",
      "4 E\n"
     ]
    }
   ],
   "source": [
    "x = ['A','B','C','D','E']\n",
    "for i,item in enumerate(x):\n",
    "    print(i, item)"
   ]
  },
  {
   "cell_type": "code",
   "execution_count": 11,
   "metadata": {},
   "outputs": [
    {
     "name": "stdout",
     "output_type": "stream",
     "text": [
      "caio is a cool guy  \n",
      "CAIO IS A COOL GUY  \n",
      "caio is a cool guy\n",
      "['caio', 'is', 'a', 'cool', 'guy']\n",
      "10\n",
      "A is a cool guy  \n",
      "True\n"
     ]
    },
    {
     "data": {
      "text/plain": [
       "10"
      ]
     },
     "execution_count": 11,
     "metadata": {},
     "output_type": "execute_result"
    }
   ],
   "source": [
    "# SomeString functions\n",
    "y = 'caio is a cool guy  '\n",
    "print(y.lower())\n",
    "print(y.upper())\n",
    "print(y.strip())\n",
    "print(y.split())\n",
    "print(y.find('cool'))\n",
    "print(y.replace('caio','A'))\n",
    "print(y.startswith('c'))\n",
    "\n",
    "print(y.find('c',5)) # Find c after 5"
   ]
  },
  {
   "cell_type": "code",
   "execution_count": 15,
   "metadata": {},
   "outputs": [
    {
     "name": "stdout",
     "output_type": "stream",
     "text": [
      "hey this string is Formated\n",
      "this is CAIO -- this is VIC\n",
      "test CAIO string\n",
      "MY TEST IS HERE ABC\n"
     ]
    }
   ],
   "source": [
    "# FORMAT STRINGS\n",
    "txt = \"hey this string is {}\"\n",
    "print(txt.format(\"Formated\"))\n",
    "\n",
    "txt2 = \"this is {part1} -- this is {part2}\"\n",
    "print(txt2.format(part1=\"CAIO\", part2 = \"VIC\"))\n",
    "\n",
    "txt3 = \"test %s string\" % \"CAIO\"\n",
    "print(txt3)\n",
    "\n",
    "txt4 = f\"MY TEST IS HERE {x}\" \n",
    "print(txt4)"
   ]
  },
  {
   "cell_type": "markdown",
   "metadata": {},
   "source": [
    "### Dictionary"
   ]
  },
  {
   "cell_type": "code",
   "execution_count": 14,
   "metadata": {},
   "outputs": [
    {
     "name": "stdout",
     "output_type": "stream",
     "text": [
      "Get('j') None\n",
      "Dict['j'] <class 'KeyError'>\n",
      "A : 10\n",
      "B : 9\n",
      "C : 3\n",
      "X : 99\n",
      "A 10\n",
      "B 9\n",
      "C 3\n",
      "X 99\n",
      "dict_keys(['A', 'B', 'C', 'X'])\n",
      "dict_items([('A', 10), ('B', 9), ('C', 3), ('X', 99)])\n",
      "dict_values([10, 9, 3, 99])\n",
      "{'A': 0, 'B': 9, 'C': 3, 'X': 99, 'D': 2, 'E': 4}\n"
     ]
    }
   ],
   "source": [
    "studentsScore = {'A':10, 'B':9, 'C':3}\n",
    "moreScores = {'D':2, 'E':4, 'A':0}\n",
    "\n",
    "studentsScore['X'] = 99\n",
    "\n",
    "#get() Vs dict[key] \n",
    "print(\"Get('j')\", studentsScore.get('J'))\n",
    "\n",
    "try:\n",
    "    print(studentsScore['J'])\n",
    "except Exception as exc:\n",
    "    print(\"Dict['j']\", exc.__class__)\n",
    "\n",
    "\n",
    "for student in studentsScore:\n",
    "    print(student, ':', studentsScore[student])\n",
    "\n",
    "\n",
    "for k, i in studentsScore.items():\n",
    "    print(k,i)\n",
    "\n",
    "print(studentsScore.keys())\n",
    "print(studentsScore.items())\n",
    "print(studentsScore.values())\n",
    "studentsScore.update(moreScores)\n",
    "print(studentsScore)"
   ]
  },
  {
   "cell_type": "markdown",
   "metadata": {},
   "source": [
    "#### In operator"
   ]
  },
  {
   "cell_type": "code",
   "execution_count": 27,
   "metadata": {},
   "outputs": [
    {
     "name": "stdout",
     "output_type": "stream",
     "text": [
      "True\n",
      "True\n",
      "True\n",
      "False\n"
     ]
    }
   ],
   "source": [
    "x = [1,2,3,4,5]\n",
    "y = 'abcdefg'\n",
    "z = {'A':1, 'B':2, 'C':3}\n",
    "\n",
    "print(1 in x)\n",
    "print('a' in y)\n",
    "print('A' in z) # Keys\n",
    "print(1 in z) "
   ]
  },
  {
   "cell_type": "markdown",
   "metadata": {},
   "source": [
    "#### Is operator"
   ]
  },
  {
   "cell_type": "code",
   "execution_count": 94,
   "metadata": {},
   "outputs": [
    {
     "name": "stdout",
     "output_type": "stream",
     "text": [
      "True\n",
      "False\n",
      "False\n",
      "True\n"
     ]
    },
    {
     "name": "stderr",
     "output_type": "stream",
     "text": [
      "<>:2: SyntaxWarning: \"is\" with a literal. Did you mean \"==\"?\n",
      "<>:2: SyntaxWarning: \"is\" with a literal. Did you mean \"==\"?\n",
      "<ipython-input-94-c68b00018e74>:2: SyntaxWarning: \"is\" with a literal. Did you mean \"==\"?\n",
      "  print(0 is 0.0)\n"
     ]
    }
   ],
   "source": [
    "print(0 == 0.0)\n",
    "print(0 is 0.0)\n",
    "x = [1,2,3]\n",
    "y = [1,2,3]\n",
    "print (x is y) ## Is is used to compare if the they are the same object.\n",
    "print (x == y)"
   ]
  },
  {
   "cell_type": "markdown",
   "metadata": {},
   "source": [
    "#### Zip \n"
   ]
  },
  {
   "cell_type": "code",
   "execution_count": 30,
   "metadata": {},
   "outputs": [
    {
     "name": "stdout",
     "output_type": "stream",
     "text": [
      "A value is 1, B value is 4, C value is 7\n",
      "A value is 2, B value is 5, C value is 8\n",
      "A value is 3, B value is 6, C value is 9\n"
     ]
    }
   ],
   "source": [
    "a_list = [1,2,3]\n",
    "b_list = [4,5,6]\n",
    "c_list = [7,8,9]\n",
    "\n",
    "z = zip(a_list, b_list, c_list)\n",
    "\n",
    "for a,b,c in z:\n",
    "    print(f'A value is {a}, B value is {b}, C value is {c}')"
   ]
  },
  {
   "cell_type": "code",
   "execution_count": null,
   "metadata": {},
   "outputs": [],
   "source": []
  },
  {
   "cell_type": "code",
   "execution_count": null,
   "metadata": {},
   "outputs": [],
   "source": []
  },
  {
   "cell_type": "code",
   "execution_count": 52,
   "metadata": {},
   "outputs": [
    {
     "name": "stdout",
     "output_type": "stream",
     "text": [
      "[[1, 2, 3, 4, 5]]\n"
     ]
    },
    {
     "data": {
      "text/plain": [
       "2.0"
      ]
     },
     "execution_count": 52,
     "metadata": {},
     "output_type": "execute_result"
    }
   ],
   "source": [
    "# Unpacking list values inside something \n",
    "x = [1,2,3,4,5]\n",
    "y = [[*x]]\n",
    "print(y)\n",
    "\n",
    "# Unpacking dict values inside function like series of values\n",
    "def avg (a,b,c):\n",
    "    return (a+b+c)/3\n",
    "\n",
    "x = {\"a\":1, \"b\":2, \"c\":3}\n",
    "avg(**x)"
   ]
  },
  {
   "cell_type": "markdown",
   "metadata": {},
   "source": [
    "#### Class"
   ]
  },
  {
   "cell_type": "code",
   "execution_count": 33,
   "metadata": {},
   "outputs": [],
   "source": [
    "class Animal:\n",
    "    x = 0\n",
    "\n",
    "    def __init__(self, name):\n",
    "        self.name = name\n",
    "        self.belly = None\n",
    "        print(f'Animal named : {self.name} created')\n",
    "    \n",
    "    def poop(self):\n",
    "        self.belly = None\n",
    "        return f'{self.name} has pooped'\n",
    "\n",
    "    def eat(self, food):\n",
    "        self.belly = food\n",
    "        print(f'{self.name} is eating {food}')\n",
    "        return 'nom nom nom'"
   ]
  },
  {
   "cell_type": "code",
   "execution_count": 34,
   "metadata": {},
   "outputs": [
    {
     "name": "stdout",
     "output_type": "stream",
     "text": [
      "Animal named : zoey created\n",
      "['__class__', '__delattr__', '__dict__', '__dir__', '__doc__', '__eq__', '__format__', '__ge__', '__getattribute__', '__gt__', '__hash__', '__init__', '__init_subclass__', '__le__', '__lt__', '__module__', '__ne__', '__new__', '__reduce__', '__reduce_ex__', '__repr__', '__setattr__', '__sizeof__', '__str__', '__subclasshook__', '__weakref__', 'belly', 'eat', 'name', 'poop', 'x']\n",
      "zoey is eating apple\n",
      "nom nom nom\n"
     ]
    }
   ],
   "source": [
    "x = Animal('zoey')\n",
    "print(dir(x))\n",
    "print(x.eat('apple'))"
   ]
  },
  {
   "cell_type": "code",
   "execution_count": 42,
   "metadata": {},
   "outputs": [],
   "source": [
    "class Cat(Animal):\n",
    "    def speak(self):\n",
    "        return 'miau miau'\n",
    "\n",
    "class Dog(Animal):\n",
    "    def bark(self):\n",
    "        return 'Bark Bark Bark'"
   ]
  },
  {
   "cell_type": "code",
   "execution_count": 43,
   "metadata": {},
   "outputs": [
    {
     "name": "stdout",
     "output_type": "stream",
     "text": [
      "Animal named : zoey created\n"
     ]
    }
   ],
   "source": [
    "x = Cat('zoey')\n",
    "y = Dog('')"
   ]
  },
  {
   "cell_type": "code",
   "execution_count": null,
   "metadata": {},
   "outputs": [],
   "source": [
    "# Functional Programming \n",
    "# List comprehensions\n",
    "# Maybe lambda\n",
    "# asny functions in python"
   ]
  }
 ],
 "metadata": {
  "interpreter": {
   "hash": "e004dec07c90c46c4ef61beb4eae47e747e1d31f11fcd02549863c409fff6375"
  },
  "kernelspec": {
   "display_name": "Python 3.8.8 ('base')",
   "language": "python",
   "name": "python3"
  },
  "language_info": {
   "codemirror_mode": {
    "name": "ipython",
    "version": 3
   },
   "file_extension": ".py",
   "mimetype": "text/x-python",
   "name": "python",
   "nbconvert_exporter": "python",
   "pygments_lexer": "ipython3",
   "version": "3.8.8"
  },
  "orig_nbformat": 4
 },
 "nbformat": 4,
 "nbformat_minor": 2
}
