{
 "cells": [
  {
   "cell_type": "markdown",
   "metadata": {},
   "source": [
    "# Python concepts review"
   ]
  },
  {
   "cell_type": "code",
   "execution_count": 4,
   "metadata": {},
   "outputs": [
    {
     "name": "stdout",
     "output_type": "stream",
     "text": [
      "Awesome Brother\n",
      "X value is  2\n",
      "Y value is  5\n",
      "Z value is  4.0 <class 'float'>\n"
     ]
    }
   ],
   "source": [
    "# Variables\n",
    "caio = \"Awesome Brother\"\n",
    "x = 2 \n",
    "y = x + 3\n",
    "z = 12.0\n",
    "print(caio)\n",
    "print(\"X value is \",x)\n",
    "print(\"Y value is \",y)\n",
    "print(\"Z value is \",z/3, type(z))"
   ]
  },
  {
   "cell_type": "code",
   "execution_count": 9,
   "metadata": {},
   "outputs": [
    {
     "name": "stdout",
     "output_type": "stream",
     "text": [
      "X value is ten\n"
     ]
    }
   ],
   "source": [
    "# Conditional Execution\n",
    "x = int(input(\"Give me a value\"))\n",
    "if x > 10 :\n",
    "    print(\"Your value is larger than ten\")\n",
    "elif x == 10 :\n",
    "    print(\"Your value equals to ten\")\n",
    "else:\n",
    "    print(\"Your value is bellow ten\")"
   ]
  },
  {
   "cell_type": "code",
   "execution_count": 15,
   "metadata": {},
   "outputs": [
    {
     "name": "stdout",
     "output_type": "stream",
     "text": [
      "Wow could not turn x into an int\n",
      "This is the error menssage :  invalid literal for int() with base 10: 'Victor'\n"
     ]
    }
   ],
   "source": [
    "# More about Contional Execution\n",
    "x = input('Give me a value')\n",
    "try:\n",
    "    x = int(x)\n",
    "    print(\"Wow turned x into an int\")\n",
    "except Exception as ex:\n",
    "    print('Wow could not turn x into an int')\n",
    "    print('This is the error menssage : ', ex)"
   ]
  },
  {
   "cell_type": "code",
   "execution_count": 54,
   "metadata": {},
   "outputs": [
    {
     "name": "stdout",
     "output_type": "stream",
     "text": [
      "Max function -> max(x)  3\n",
      "Type of x  <class 'list'>\n",
      "Type of y  <class 'str'>\n",
      "New type of y after float(y)  <class 'float'>\n"
     ]
    }
   ],
   "source": [
    "# Some usefull functions\n",
    "x = [1,2,3]\n",
    "y = '2'\n",
    "print('Max function -> max(x) ', max(x))\n",
    "print(\"Type of x \",type(x))\n",
    "print(\"Type of y \",type(y))\n",
    "y = float(y)\n",
    "print(\"New type of y after float(y) \",type(y))"
   ]
  },
  {
   "cell_type": "code",
   "execution_count": 30,
   "metadata": {},
   "outputs": [
    {
     "name": "stdout",
     "output_type": "stream",
     "text": [
      "22\n",
      "99\n"
     ]
    }
   ],
   "source": [
    "# Functions (Store and reuse)\n",
    "def comparerValues(a,b):\n",
    "    if (a > b) :\n",
    "        return a \n",
    "    else:\n",
    "        return b\n",
    "\n",
    "def comparerValuesNArgs(*args): # Unlimited Number of Positional Argument Values\n",
    "    return max(args)\n",
    "\n",
    "print(comparerValues(10,22))\n",
    "print(comparerValuesNArgs(1,2,3,4,5,99,22))"
   ]
  },
  {
   "cell_type": "code",
   "execution_count": 70,
   "metadata": {},
   "outputs": [
    {
     "name": "stdout",
     "output_type": "stream",
     "text": [
      "While i  0\n",
      "While i  1\n",
      "While i  2\n",
      "While i  3\n",
      "While i  4\n",
      "\n",
      "While True  1\n",
      "While True  2\n",
      "While True  3\n",
      "While True  4\n",
      "\n",
      "For i in range(5)  0\n",
      "For i in range(5)  1\n",
      "For i in range(5)  2\n",
      "For i in range(5)  3\n",
      "For i in range(5)  4\n",
      "\n",
      "For i in range(2,20,5)  2\n",
      "For i in range(2,20,5)  7\n",
      "For i in range(2,20,5)  12\n",
      "For i in range(2,20,5)  17\n"
     ]
    }
   ],
   "source": [
    "# Loops\n",
    "i = 0\n",
    "while i < 5:\n",
    "    print('While i ',i)\n",
    "    i += 1\n",
    "\n",
    "print()\n",
    "\n",
    "i = 1\n",
    "while True:\n",
    "    if i % 5 == 0 :\n",
    "        break\n",
    "    print('While True ',i)\n",
    "    i = i + 1\n",
    "\n",
    "print()\n",
    "\n",
    "for i in range(5):\n",
    "    print('For i in range(5) ',i)\n",
    "\n",
    "print()\n",
    "\n",
    "for i in range(2,20,5):\n",
    "    print('For i in range(2,20,5) ',i)"
   ]
  },
  {
   "cell_type": "code",
   "execution_count": 97,
   "metadata": {},
   "outputs": [
    {
     "name": "stdout",
     "output_type": "stream",
     "text": [
      "firstItem  1\n",
      "lastItem  10\n",
      "sliceItems  [1, 2, 3, 4, 5]\n",
      "maxValue  10\n",
      "minValue  1\n",
      "Length  10\n",
      "x values [1, 2, 3, 4, 5, 6, 7, 8, 9, 10]\n",
      "12345678910\n",
      "oiac\n"
     ]
    }
   ],
   "source": [
    "# Lists\n",
    "x = [1,2,3,4,5,6,7,8,9,10]\n",
    "y = 'caio'\n",
    "\n",
    "firstItem = x[0]\n",
    "lastItem = x[-1]\n",
    "sliceItems = x[0:5]\n",
    "maxValue = max(x)\n",
    "minValue = min(x)\n",
    "\n",
    "x.append(11)\n",
    "x.pop()\n",
    "x.extend([12])\n",
    "x.remove(12)\n",
    "\n",
    "\n",
    "print(\"firstItem \", firstItem)\n",
    "print(\"lastItem \", lastItem)\n",
    "print(\"sliceItems \", sliceItems)\n",
    "print(\"maxValue \", maxValue)\n",
    "print(\"minValue \", minValue)\n",
    "print('Length ', len(x))\n",
    "\n",
    "print('x values',x)\n",
    "\n",
    "result = \"\"\n",
    "for item in x:\n",
    "    result += str(item)\n",
    "print(result)\n",
    "\n",
    "reversedy = \"\"\n",
    "for letter in reversed(y):\n",
    "    reversedy += letter\n",
    "print(reversedy)"
   ]
  },
  {
   "cell_type": "code",
   "execution_count": 103,
   "metadata": {},
   "outputs": [
    {
     "name": "stdout",
     "output_type": "stream",
     "text": [
      "caio is a cool guy  \n",
      "CAIO IS A COOL GUY  \n",
      "Caio is a cool guy\n",
      "['Caio', 'is', 'a', 'cool', 'guy']\n",
      "10\n"
     ]
    }
   ],
   "source": [
    "# SomeString functions\n",
    "y = 'Caio is a cool guy  '\n",
    "print(y.lower())\n",
    "print(y.upper())\n",
    "print(y.strip())\n",
    "print(y.split())\n",
    "print(y.find('cool'))"
   ]
  },
  {
   "cell_type": "code",
   "execution_count": 117,
   "metadata": {},
   "outputs": [
    {
     "name": "stdout",
     "output_type": "stream",
     "text": [
      "A : 10\n",
      "B : 9\n",
      "C : 3\n",
      "dict_keys(['A', 'B', 'C'])\n",
      "dict_items([('A', 10), ('B', 9), ('C', 3)])\n",
      "{'A': 0, 'B': 9, 'C': 3, 'D': 2, 'E': 4}\n"
     ]
    }
   ],
   "source": [
    "#Dictionary\n",
    "studentsScore = {'A':10, 'B':9, 'C':3}\n",
    "moreScores = {'D':2, 'E':4, 'A':0}\n",
    "\n",
    "for student in studentsScore:\n",
    "    print(student, ':', studentsScore[student])\n",
    "\n",
    "print(studentsScore.keys())\n",
    "print(studentsScore.items())\n",
    "studentsScore.update(moreScores)\n",
    "print(studentsScore)"
   ]
  },
  {
   "cell_type": "code",
   "execution_count": 94,
   "metadata": {},
   "outputs": [
    {
     "name": "stdout",
     "output_type": "stream",
     "text": [
      "True\n",
      "False\n",
      "False\n",
      "True\n"
     ]
    },
    {
     "name": "stderr",
     "output_type": "stream",
     "text": [
      "<>:2: SyntaxWarning: \"is\" with a literal. Did you mean \"==\"?\n",
      "<>:2: SyntaxWarning: \"is\" with a literal. Did you mean \"==\"?\n",
      "<ipython-input-94-c68b00018e74>:2: SyntaxWarning: \"is\" with a literal. Did you mean \"==\"?\n",
      "  print(0 is 0.0)\n"
     ]
    }
   ],
   "source": [
    "print(0 == 0.0)\n",
    "print(0 is 0.0)\n",
    "x = [1,2,3]\n",
    "y = [1,2,3]\n",
    "print (x is y) ## Is is used to compare if the they are the same object.\n",
    "print (x == y)"
   ]
  },
  {
   "cell_type": "code",
   "execution_count": null,
   "metadata": {},
   "outputs": [],
   "source": []
  },
  {
   "cell_type": "code",
   "execution_count": null,
   "metadata": {},
   "outputs": [],
   "source": []
  },
  {
   "cell_type": "code",
   "execution_count": null,
   "metadata": {},
   "outputs": [],
   "source": []
  },
  {
   "cell_type": "code",
   "execution_count": null,
   "metadata": {},
   "outputs": [],
   "source": []
  },
  {
   "cell_type": "code",
   "execution_count": 52,
   "metadata": {},
   "outputs": [
    {
     "name": "stdout",
     "output_type": "stream",
     "text": [
      "[[1, 2, 3, 4, 5]]\n"
     ]
    },
    {
     "data": {
      "text/plain": [
       "2.0"
      ]
     },
     "execution_count": 52,
     "metadata": {},
     "output_type": "execute_result"
    }
   ],
   "source": [
    "# Unpacking list values inside something \n",
    "x = [1,2,3,4,5]\n",
    "y = [[*x]]\n",
    "print(y)\n",
    "\n",
    "# Unpacking dict values inside function like series of values\n",
    "def avg (a,b,c):\n",
    "    return (a+b+c)/3\n",
    "\n",
    "x = {\"a\":1, \"b\":2, \"c\":3}\n",
    "avg(**x)"
   ]
  },
  {
   "cell_type": "code",
   "execution_count": null,
   "metadata": {},
   "outputs": [],
   "source": []
  },
  {
   "cell_type": "code",
   "execution_count": null,
   "metadata": {},
   "outputs": [],
   "source": []
  },
  {
   "cell_type": "code",
   "execution_count": null,
   "metadata": {},
   "outputs": [],
   "source": [
    "# OOP\n",
    "# Functional Programming \n",
    "# usefull functions in lists and dicts\n",
    "# Try , except and others\n",
    "# List comprehensions\n",
    "# Zip\n",
    "# Maybe lambda\n",
    "# asny functions in python"
   ]
  }
 ],
 "metadata": {
  "interpreter": {
   "hash": "e004dec07c90c46c4ef61beb4eae47e747e1d31f11fcd02549863c409fff6375"
  },
  "kernelspec": {
   "display_name": "Python 3.8.8 ('base')",
   "language": "python",
   "name": "python3"
  },
  "language_info": {
   "codemirror_mode": {
    "name": "ipython",
    "version": 3
   },
   "file_extension": ".py",
   "mimetype": "text/x-python",
   "name": "python",
   "nbconvert_exporter": "python",
   "pygments_lexer": "ipython3",
   "version": "3.8.8"
  },
  "orig_nbformat": 4
 },
 "nbformat": 4,
 "nbformat_minor": 2
}
